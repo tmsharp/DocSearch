{
 "cells": [
  {
   "cell_type": "code",
   "execution_count": 1,
   "metadata": {},
   "outputs": [],
   "source": [
    "import os\n",
    "import sklearn\n",
    "import pandas as pd\n",
    "import numpy as np\n",
    "import matplotlib.pyplot as plt\n",
    "from textblob import TextBlob"
   ]
  },
  {
   "cell_type": "code",
   "execution_count": 2,
   "metadata": {},
   "outputs": [],
   "source": [
    "docs = 'tech_trends'"
   ]
  },
  {
   "cell_type": "code",
   "execution_count": 3,
   "metadata": {},
   "outputs": [
    {
     "data": {
      "text/plain": [
       "['PS_Trends2014_CIOasVC.txt',\n",
       " 'PS_Trends2014_CloudOrchestration.txt',\n",
       " 'PS_Trends2014_CognitiveAnalytics.txt',\n",
       " 'PS_Trends2014_Crowdsourcing.txt',\n",
       " 'PS_Trends2014_DigitalEngage.txt']"
      ]
     },
     "execution_count": 3,
     "metadata": {},
     "output_type": "execute_result"
    }
   ],
   "source": [
    "os.chdir(docs)\n",
    "os.listdir()[:5]"
   ]
  },
  {
   "cell_type": "code",
   "execution_count": 4,
   "metadata": {},
   "outputs": [],
   "source": [
    "doc_dict = {}\n",
    "for doc_name in os.listdir():\n",
    "    with open(doc_name, 'rb') as doc:\n",
    "        doc_dict[doc_name] = [line.strip().decode('utf8') for line in doc.readlines()]"
   ]
  },
  {
   "cell_type": "code",
   "execution_count": 5,
   "metadata": {},
   "outputs": [],
   "source": [
    "doc_dict = {doc_name: \" \".join(doc_dict[doc_name]) for doc_name in doc_dict.keys()}"
   ]
  },
  {
   "cell_type": "code",
   "execution_count": 6,
   "metadata": {},
   "outputs": [
    {
     "data": {
      "text/html": [
       "<div>\n",
       "<style scoped>\n",
       "    .dataframe tbody tr th:only-of-type {\n",
       "        vertical-align: middle;\n",
       "    }\n",
       "\n",
       "    .dataframe tbody tr th {\n",
       "        vertical-align: top;\n",
       "    }\n",
       "\n",
       "    .dataframe thead th {\n",
       "        text-align: right;\n",
       "    }\n",
       "</style>\n",
       "<table border=\"1\" class=\"dataframe\">\n",
       "  <thead>\n",
       "    <tr style=\"text-align: right;\">\n",
       "      <th></th>\n",
       "      <th>doc_name</th>\n",
       "      <th>text</th>\n",
       "    </tr>\n",
       "  </thead>\n",
       "  <tbody>\n",
       "    <tr>\n",
       "      <th>0</th>\n",
       "      <td>PS_Trends2014_CIOasVC.txt</td>\n",
       "      <td>﻿CIOs have historically focused on core delive...</td>\n",
       "    </tr>\n",
       "    <tr>\n",
       "      <th>1</th>\n",
       "      <td>PS_Trends2014_CloudOrchestration.txt</td>\n",
       "      <td>﻿ CLOUD adoption across the enterprise is a gr...</td>\n",
       "    </tr>\n",
       "    <tr>\n",
       "      <th>2</th>\n",
       "      <td>PS_Trends2014_CognitiveAnalytics.txt</td>\n",
       "      <td>﻿FOR decades, companies have dealt with inform...</td>\n",
       "    </tr>\n",
       "    <tr>\n",
       "      <th>3</th>\n",
       "      <td>PS_Trends2014_Crowdsourcing.txt</td>\n",
       "      <td>﻿ ENTERPRISE adoption of crowdsourcing can all...</td>\n",
       "    </tr>\n",
       "    <tr>\n",
       "      <th>4</th>\n",
       "      <td>PS_Trends2014_DigitalEngage.txt</td>\n",
       "      <td>﻿DIGITAL is at the heart of business— reshapin...</td>\n",
       "    </tr>\n",
       "  </tbody>\n",
       "</table>\n",
       "</div>"
      ],
      "text/plain": [
       "                               doc_name  \\\n",
       "0             PS_Trends2014_CIOasVC.txt   \n",
       "1  PS_Trends2014_CloudOrchestration.txt   \n",
       "2  PS_Trends2014_CognitiveAnalytics.txt   \n",
       "3       PS_Trends2014_Crowdsourcing.txt   \n",
       "4       PS_Trends2014_DigitalEngage.txt   \n",
       "\n",
       "                                                text  \n",
       "0  ﻿CIOs have historically focused on core delive...  \n",
       "1  ﻿ CLOUD adoption across the enterprise is a gr...  \n",
       "2  ﻿FOR decades, companies have dealt with inform...  \n",
       "3  ﻿ ENTERPRISE adoption of crowdsourcing can all...  \n",
       "4  ﻿DIGITAL is at the heart of business— reshapin...  "
      ]
     },
     "execution_count": 6,
     "metadata": {},
     "output_type": "execute_result"
    }
   ],
   "source": [
    "doc_df = pd.DataFrame.from_dict(doc_dict,orient='index').reset_index()\n",
    "doc_df.columns = ['doc_name', 'text']\n",
    "doc_df.head()"
   ]
  },
  {
   "cell_type": "code",
   "execution_count": 7,
   "metadata": {},
   "outputs": [],
   "source": [
    "from sklearn.feature_extraction.text import TfidfVectorizer\n",
    "\n",
    "vectorizer = TfidfVectorizer()\n",
    "X = vectorizer.fit_transform(doc_df['text'])"
   ]
  },
  {
   "cell_type": "code",
   "execution_count": 8,
   "metadata": {},
   "outputs": [
    {
     "name": "stdout",
     "output_type": "stream",
     "text": [
      "['world', 'world_s_', 'worlds', 'worldwide', 'worn', 'worried', 'worry', 'worse', 'worsen', 'worst', 'worth', 'wortham', 'worthwhile', 'would', 'wouldn', 'woven', 'wow', 'wowing', 'wp', 'wpd', 'wrap', 'wrapping', 'wrestling', 'wright', 'write', 'writer', 'writers', 'writes', 'writing', 'written', 'wrong', 'wrote', 'wsdl', 'wsj', 'wtf', 'wulf', 'wurster', 'wuxi', 'www', 'www2', 'wyatt', 'wycash', 'wylie', 'xaas', 'xbox', 'xlviii', 'xml', 'xoom', 'xowi', 'xprize', 'yahoo', 'yang', 'ye', 'yeah', 'year', 'year6', 'yearlong', 'years', 'yes', 'yesterday', 'yesteryear', 'yet', 'yield', 'yielded', 'yielding', 'yields', 'yili', 'yin', 'york', 'yoshikawa', 'you', 'young', 'younger', 'your', 'yourgenome', 'yourself', 'yourselves', 'youtube', 'yudkowsky', 'yun', 'yusuf', 'zachary', 'zb', 'zdnet', 'zealand', 'zero', 'zeroturnaround', 'zettabyte', 'zettabytes', 'zgorski', 'zheng', 'zhtml', 'zoey', 'zone', 'zoned', 'zones', 'zumwalt', 'zurich', 'åse', 'être']\n"
     ]
    },
    {
     "data": {
      "text/plain": [
       "(34, 13279)"
      ]
     },
     "execution_count": 8,
     "metadata": {},
     "output_type": "execute_result"
    }
   ],
   "source": [
    "print(vectorizer.get_feature_names()[-100:])\n",
    "X.shape"
   ]
  },
  {
   "cell_type": "code",
   "execution_count": 9,
   "metadata": {},
   "outputs": [
    {
     "data": {
      "text/html": [
       "<div>\n",
       "<style scoped>\n",
       "    .dataframe tbody tr th:only-of-type {\n",
       "        vertical-align: middle;\n",
       "    }\n",
       "\n",
       "    .dataframe tbody tr th {\n",
       "        vertical-align: top;\n",
       "    }\n",
       "\n",
       "    .dataframe thead th {\n",
       "        text-align: right;\n",
       "    }\n",
       "</style>\n",
       "<table border=\"1\" class=\"dataframe\">\n",
       "  <thead>\n",
       "    <tr style=\"text-align: right;\">\n",
       "      <th></th>\n",
       "      <th>000</th>\n",
       "      <th>01</th>\n",
       "      <th>02</th>\n",
       "      <th>03</th>\n",
       "      <th>030998</th>\n",
       "      <th>031</th>\n",
       "      <th>04</th>\n",
       "      <th>05</th>\n",
       "      <th>05b5efa4</th>\n",
       "      <th>06</th>\n",
       "      <th>...</th>\n",
       "      <th>zheng</th>\n",
       "      <th>zhtml</th>\n",
       "      <th>zoey</th>\n",
       "      <th>zone</th>\n",
       "      <th>zoned</th>\n",
       "      <th>zones</th>\n",
       "      <th>zumwalt</th>\n",
       "      <th>zurich</th>\n",
       "      <th>åse</th>\n",
       "      <th>être</th>\n",
       "    </tr>\n",
       "    <tr>\n",
       "      <th>doc_name</th>\n",
       "      <th></th>\n",
       "      <th></th>\n",
       "      <th></th>\n",
       "      <th></th>\n",
       "      <th></th>\n",
       "      <th></th>\n",
       "      <th></th>\n",
       "      <th></th>\n",
       "      <th></th>\n",
       "      <th></th>\n",
       "      <th></th>\n",
       "      <th></th>\n",
       "      <th></th>\n",
       "      <th></th>\n",
       "      <th></th>\n",
       "      <th></th>\n",
       "      <th></th>\n",
       "      <th></th>\n",
       "      <th></th>\n",
       "      <th></th>\n",
       "      <th></th>\n",
       "    </tr>\n",
       "  </thead>\n",
       "  <tbody>\n",
       "    <tr>\n",
       "      <th>PS_Trends2014_CIOasVC.txt</th>\n",
       "      <td>0.000000</td>\n",
       "      <td>0.000000</td>\n",
       "      <td>0.000000</td>\n",
       "      <td>0.00000</td>\n",
       "      <td>0.0</td>\n",
       "      <td>0.000000</td>\n",
       "      <td>0.000000</td>\n",
       "      <td>0.000000</td>\n",
       "      <td>0.0</td>\n",
       "      <td>0.000000</td>\n",
       "      <td>...</td>\n",
       "      <td>0.0</td>\n",
       "      <td>0.0</td>\n",
       "      <td>0.0</td>\n",
       "      <td>0.0</td>\n",
       "      <td>0.0</td>\n",
       "      <td>0.0</td>\n",
       "      <td>0.0</td>\n",
       "      <td>0.0</td>\n",
       "      <td>0.0</td>\n",
       "      <td>0.0</td>\n",
       "    </tr>\n",
       "    <tr>\n",
       "      <th>PS_Trends2014_CloudOrchestration.txt</th>\n",
       "      <td>0.000000</td>\n",
       "      <td>0.003751</td>\n",
       "      <td>0.000000</td>\n",
       "      <td>0.00000</td>\n",
       "      <td>0.0</td>\n",
       "      <td>0.000000</td>\n",
       "      <td>0.000000</td>\n",
       "      <td>0.000000</td>\n",
       "      <td>0.0</td>\n",
       "      <td>0.000000</td>\n",
       "      <td>...</td>\n",
       "      <td>0.0</td>\n",
       "      <td>0.0</td>\n",
       "      <td>0.0</td>\n",
       "      <td>0.0</td>\n",
       "      <td>0.0</td>\n",
       "      <td>0.0</td>\n",
       "      <td>0.0</td>\n",
       "      <td>0.0</td>\n",
       "      <td>0.0</td>\n",
       "      <td>0.0</td>\n",
       "    </tr>\n",
       "    <tr>\n",
       "      <th>PS_Trends2014_CognitiveAnalytics.txt</th>\n",
       "      <td>0.000000</td>\n",
       "      <td>0.003701</td>\n",
       "      <td>0.000000</td>\n",
       "      <td>0.01735</td>\n",
       "      <td>0.0</td>\n",
       "      <td>0.000000</td>\n",
       "      <td>0.000000</td>\n",
       "      <td>0.000000</td>\n",
       "      <td>0.0</td>\n",
       "      <td>0.000000</td>\n",
       "      <td>...</td>\n",
       "      <td>0.0</td>\n",
       "      <td>0.0</td>\n",
       "      <td>0.0</td>\n",
       "      <td>0.0</td>\n",
       "      <td>0.0</td>\n",
       "      <td>0.0</td>\n",
       "      <td>0.0</td>\n",
       "      <td>0.0</td>\n",
       "      <td>0.0</td>\n",
       "      <td>0.0</td>\n",
       "    </tr>\n",
       "    <tr>\n",
       "      <th>PS_Trends2014_Crowdsourcing.txt</th>\n",
       "      <td>0.036831</td>\n",
       "      <td>0.000000</td>\n",
       "      <td>0.008689</td>\n",
       "      <td>0.00000</td>\n",
       "      <td>0.0</td>\n",
       "      <td>0.006072</td>\n",
       "      <td>0.003707</td>\n",
       "      <td>0.007414</td>\n",
       "      <td>0.0</td>\n",
       "      <td>0.003892</td>\n",
       "      <td>...</td>\n",
       "      <td>0.0</td>\n",
       "      <td>0.0</td>\n",
       "      <td>0.0</td>\n",
       "      <td>0.0</td>\n",
       "      <td>0.0</td>\n",
       "      <td>0.0</td>\n",
       "      <td>0.0</td>\n",
       "      <td>0.0</td>\n",
       "      <td>0.0</td>\n",
       "      <td>0.0</td>\n",
       "    </tr>\n",
       "    <tr>\n",
       "      <th>PS_Trends2014_DigitalEngage.txt</th>\n",
       "      <td>0.000000</td>\n",
       "      <td>0.000000</td>\n",
       "      <td>0.000000</td>\n",
       "      <td>0.00000</td>\n",
       "      <td>0.0</td>\n",
       "      <td>0.000000</td>\n",
       "      <td>0.004440</td>\n",
       "      <td>0.004440</td>\n",
       "      <td>0.0</td>\n",
       "      <td>0.000000</td>\n",
       "      <td>...</td>\n",
       "      <td>0.0</td>\n",
       "      <td>0.0</td>\n",
       "      <td>0.0</td>\n",
       "      <td>0.0</td>\n",
       "      <td>0.0</td>\n",
       "      <td>0.0</td>\n",
       "      <td>0.0</td>\n",
       "      <td>0.0</td>\n",
       "      <td>0.0</td>\n",
       "      <td>0.0</td>\n",
       "    </tr>\n",
       "  </tbody>\n",
       "</table>\n",
       "<p>5 rows × 13279 columns</p>\n",
       "</div>"
      ],
      "text/plain": [
       "                                           000        01        02       03  \\\n",
       "doc_name                                                                      \n",
       "PS_Trends2014_CIOasVC.txt             0.000000  0.000000  0.000000  0.00000   \n",
       "PS_Trends2014_CloudOrchestration.txt  0.000000  0.003751  0.000000  0.00000   \n",
       "PS_Trends2014_CognitiveAnalytics.txt  0.000000  0.003701  0.000000  0.01735   \n",
       "PS_Trends2014_Crowdsourcing.txt       0.036831  0.000000  0.008689  0.00000   \n",
       "PS_Trends2014_DigitalEngage.txt       0.000000  0.000000  0.000000  0.00000   \n",
       "\n",
       "                                      030998       031        04        05  \\\n",
       "doc_name                                                                     \n",
       "PS_Trends2014_CIOasVC.txt                0.0  0.000000  0.000000  0.000000   \n",
       "PS_Trends2014_CloudOrchestration.txt     0.0  0.000000  0.000000  0.000000   \n",
       "PS_Trends2014_CognitiveAnalytics.txt     0.0  0.000000  0.000000  0.000000   \n",
       "PS_Trends2014_Crowdsourcing.txt          0.0  0.006072  0.003707  0.007414   \n",
       "PS_Trends2014_DigitalEngage.txt          0.0  0.000000  0.004440  0.004440   \n",
       "\n",
       "                                      05b5efa4        06  ...  zheng  zhtml  \\\n",
       "doc_name                                                  ...                 \n",
       "PS_Trends2014_CIOasVC.txt                  0.0  0.000000  ...    0.0    0.0   \n",
       "PS_Trends2014_CloudOrchestration.txt       0.0  0.000000  ...    0.0    0.0   \n",
       "PS_Trends2014_CognitiveAnalytics.txt       0.0  0.000000  ...    0.0    0.0   \n",
       "PS_Trends2014_Crowdsourcing.txt            0.0  0.003892  ...    0.0    0.0   \n",
       "PS_Trends2014_DigitalEngage.txt            0.0  0.000000  ...    0.0    0.0   \n",
       "\n",
       "                                      zoey  zone  zoned  zones  zumwalt  \\\n",
       "doc_name                                                                  \n",
       "PS_Trends2014_CIOasVC.txt              0.0   0.0    0.0    0.0      0.0   \n",
       "PS_Trends2014_CloudOrchestration.txt   0.0   0.0    0.0    0.0      0.0   \n",
       "PS_Trends2014_CognitiveAnalytics.txt   0.0   0.0    0.0    0.0      0.0   \n",
       "PS_Trends2014_Crowdsourcing.txt        0.0   0.0    0.0    0.0      0.0   \n",
       "PS_Trends2014_DigitalEngage.txt        0.0   0.0    0.0    0.0      0.0   \n",
       "\n",
       "                                      zurich  åse  être  \n",
       "doc_name                                                 \n",
       "PS_Trends2014_CIOasVC.txt                0.0  0.0   0.0  \n",
       "PS_Trends2014_CloudOrchestration.txt     0.0  0.0   0.0  \n",
       "PS_Trends2014_CognitiveAnalytics.txt     0.0  0.0   0.0  \n",
       "PS_Trends2014_Crowdsourcing.txt          0.0  0.0   0.0  \n",
       "PS_Trends2014_DigitalEngage.txt          0.0  0.0   0.0  \n",
       "\n",
       "[5 rows x 13279 columns]"
      ]
     },
     "execution_count": 9,
     "metadata": {},
     "output_type": "execute_result"
    }
   ],
   "source": [
    "vec_df = pd.DataFrame(X.toarray(), columns = vectorizer.get_feature_names(), index=doc_df['doc_name'])\n",
    "vec_df.head()"
   ]
  },
  {
   "cell_type": "code",
   "execution_count": 10,
   "metadata": {},
   "outputs": [
    {
     "data": {
      "text/plain": [
       "array([[1.        , 0.82666369, 0.82708548, ..., 0.81478691, 0.7976713 ,\n",
       "        0.86835999],\n",
       "       [0.82666369, 1.        , 0.81724957, ..., 0.78294481, 0.76110811,\n",
       "        0.83141918],\n",
       "       [0.82708548, 0.81724957, 1.        , ..., 0.8152465 , 0.79393042,\n",
       "        0.83090087],\n",
       "       ...,\n",
       "       [0.81478691, 0.78294481, 0.8152465 , ..., 1.        , 0.89864413,\n",
       "        0.9225698 ],\n",
       "       [0.7976713 , 0.76110811, 0.79393042, ..., 0.89864413, 1.        ,\n",
       "        0.90064656],\n",
       "       [0.86835999, 0.83141918, 0.83090087, ..., 0.9225698 , 0.90064656,\n",
       "        1.        ]])"
      ]
     },
     "execution_count": 10,
     "metadata": {},
     "output_type": "execute_result"
    }
   ],
   "source": [
    "from sklearn.metrics.pairwise import cosine_similarity\n",
    "cosine_similarity(X)"
   ]
  },
  {
   "cell_type": "code",
   "execution_count": 11,
   "metadata": {},
   "outputs": [
    {
     "name": "stdout",
     "output_type": "stream",
     "text": [
      "Enter search phrase: will artificial intelligence replace workers\n"
     ]
    },
    {
     "data": {
      "text/html": [
       "<div>\n",
       "<style scoped>\n",
       "    .dataframe tbody tr th:only-of-type {\n",
       "        vertical-align: middle;\n",
       "    }\n",
       "\n",
       "    .dataframe tbody tr th {\n",
       "        vertical-align: top;\n",
       "    }\n",
       "\n",
       "    .dataframe thead th {\n",
       "        text-align: right;\n",
       "    }\n",
       "</style>\n",
       "<table border=\"1\" class=\"dataframe\">\n",
       "  <thead>\n",
       "    <tr style=\"text-align: right;\">\n",
       "      <th></th>\n",
       "      <th>doc_name</th>\n",
       "      <th>cos_sim</th>\n",
       "    </tr>\n",
       "  </thead>\n",
       "  <tbody>\n",
       "    <tr>\n",
       "      <th>33</th>\n",
       "      <td>Trends2018_No_Collar_Workforce.txt</td>\n",
       "      <td>0.090929</td>\n",
       "    </tr>\n",
       "    <tr>\n",
       "      <th>26</th>\n",
       "      <td>Trends2017_Machine_Intelligence.txt</td>\n",
       "      <td>0.076576</td>\n",
       "    </tr>\n",
       "    <tr>\n",
       "      <th>31</th>\n",
       "      <td>Trends2018_Exponentials.txt</td>\n",
       "      <td>0.057950</td>\n",
       "    </tr>\n",
       "    <tr>\n",
       "      <th>27</th>\n",
       "      <td>Trends2017_Mixed_Reality.txt</td>\n",
       "      <td>0.051796</td>\n",
       "    </tr>\n",
       "    <tr>\n",
       "      <th>6</th>\n",
       "      <td>PS_Trends2014_Exponentials.txt</td>\n",
       "      <td>0.043333</td>\n",
       "    </tr>\n",
       "    <tr>\n",
       "      <th>11</th>\n",
       "      <td>PS_Trends2014_Wearables.txt</td>\n",
       "      <td>0.024430</td>\n",
       "    </tr>\n",
       "    <tr>\n",
       "      <th>12</th>\n",
       "      <td>Trends2016_Augmented_Virtual_Reality.txt</td>\n",
       "      <td>0.024248</td>\n",
       "    </tr>\n",
       "    <tr>\n",
       "      <th>15</th>\n",
       "      <td>Trends2016_Exponentials.txt</td>\n",
       "      <td>0.023212</td>\n",
       "    </tr>\n",
       "    <tr>\n",
       "      <th>21</th>\n",
       "      <td>Trends2017_Dark_Analytics.txt</td>\n",
       "      <td>0.022474</td>\n",
       "    </tr>\n",
       "    <tr>\n",
       "      <th>23</th>\n",
       "      <td>Trends2017_Exponentials.txt</td>\n",
       "      <td>0.020491</td>\n",
       "    </tr>\n",
       "  </tbody>\n",
       "</table>\n",
       "</div>"
      ],
      "text/plain": [
       "                                    doc_name   cos_sim\n",
       "33        Trends2018_No_Collar_Workforce.txt  0.090929\n",
       "26       Trends2017_Machine_Intelligence.txt  0.076576\n",
       "31               Trends2018_Exponentials.txt  0.057950\n",
       "27              Trends2017_Mixed_Reality.txt  0.051796\n",
       "6             PS_Trends2014_Exponentials.txt  0.043333\n",
       "11               PS_Trends2014_Wearables.txt  0.024430\n",
       "12  Trends2016_Augmented_Virtual_Reality.txt  0.024248\n",
       "15               Trends2016_Exponentials.txt  0.023212\n",
       "21             Trends2017_Dark_Analytics.txt  0.022474\n",
       "23               Trends2017_Exponentials.txt  0.020491"
      ]
     },
     "execution_count": 11,
     "metadata": {},
     "output_type": "execute_result"
    }
   ],
   "source": [
    "search_phrase = input('Enter search phrase: ')\n",
    "search_row = pd.DataFrame(vectorizer.transform([search_phrase]).toarray(), \n",
    "                                         columns=vectorizer.get_feature_names(), \n",
    "                                         index=['search_phrase'])\n",
    "temp_df = pd.concat([search_row, vec_df])\n",
    "cosine_similarity(temp_df)[0,:]\n",
    "cos_df = pd.DataFrame({'doc_name': list(temp_df.index), 'cos_sim': cosine_similarity(temp_df)[0,:]})\\\n",
    "                        .sort_values(by='cos_sim', ascending=False)\n",
    "\n",
    "cos_df[cos_df['doc_name'] != 'search_phrase'].head(10)"
   ]
  },
  {
   "cell_type": "markdown",
   "metadata": {},
   "source": [
    "# Top Doc"
   ]
  },
  {
   "cell_type": "code",
   "execution_count": 12,
   "metadata": {},
   "outputs": [
    {
     "data": {
      "text/plain": [
       "'\\ufeffTech Trends 2018 The symphonic enterprise COVER IMAGE BY: MARTIN SATI Deloitte Consulting LLP’s Technology Consulting practice is dedicated to helping our clients build tomorrow by solving today’s complex business problems involving strategy, procurement, design, delivery, and assurance of technology solutions. Our service areas include analytics and information management, delivery, cyber risk services, and technical strategy and architecture, as well as the spectrum of digital strategy, design, and development services offered by Deloitte Digital. Learn more about our Technology Consulting practice on www.deloitte.com. Tech Trends 2018: The symphonic enterprise  No-collar workforce Humans and machines in one loop— collaborating in roles and new talent models WITH intelligent automation marching steadily toward broader adoption, media coverage of this historic technology disruption is turning increasingly alarmist. “New study: Artificial intelligence is coming for your jobs, millennials,”1 announced one business news outlet recently. “US workers face higher risk of being replaced by robots,”2 declared another. These dire headlines may deliver impressive click stats, but they don’t consider a much more hopeful—and likely—scenario: In the near future, human workers and machines will work together seamlessly, each complementing the other’s efforts in a single loop of productivity. And, in turn, HR organizations will begin developing new strategies and tools for recruiting, managing, and training a hybrid human-machine workforce. Notwithstanding sky-is-falling predictions, robotics, cognitive, and artificial intelligence (AI) will probably not displace most human workers. Yes, these tools offer opportunities to automate some repetitive low-level tasks. Perhaps more importantly, As automation, cognitive technologies, and artificial intelligence gain traction, companies may need to reinvent worker roles, assigning some to humans, others to machines, and still others to a hybrid model in which technology augments human performance. Managing both humans and machines will present new challenges to the human resources organization, including how to simultaneously retrain augmented workers and to pioneer new HR processes for managing virtual workers, cognitive agents, bots, and the other AI-driven capabilities comprising the “no-collar” workforce. By redesigning legacy practices, systems, and talent models around the tenets of autonomics, HR groups can begin transforming themselves into nimble, fast-moving, dynamic organizations better positioned to support the talent—both mechanized and human—of tomorrow. No-collar workforce 25 Figure 1. A new mind-set for the no-collar workforce Abilities Psychomotor, sensory, physical Cognitive Skills Content, process, system Social Deloitte Insights | Deloitte.com/insights Humans and machines can develop a symbiotic relationship, each with specialized skills and abilities, in a unified workforce that delivers multifaceted benefits to the business. Social perceptiveness Persuasion Empathy Emotional intelligence Negotiation Fact recall Computation Scalable processing capacity Management Complex problem-solving Active listening Critical thinking Judgment Handling ambiguity Ethics Applying expertise Operations analysis Pattern recognition Novelty detection Equipment operation & repair System design Routine reading comprehension Logic Structured inference Condition monitoring Data discovery Impartiality Category flexibility Oral & written comprehension Inductive & deductive reasoning Problem sensitivity Selective attention Oral & written expression Creativity Speech clarity Near vision Perception Fine manual dexterity Regular object manipulation Basic speech Sound localization Reaction time Dynamic flexibility Night & peripheral vision Stamina Speech recognition Rate control Coordination Precision Strength ENHANCED ROLE SPECIALIZATION INTELLIGENT AUTOMATION INCREASED PRODUCTIVITY, INNOVATION, EFFICIENCY IMPROVED DECISION-MAKING HUMANS MACHINES Sources: Deloitte LLP, Talent for Survival: Essential skills for humans working in the machine age, 2016; Deloitte LLP, From brawn to brains: The impact of technology on jobs in the UK, 2015; Jim Guszcza, Harvey Lewis, and Peter Evans-Greenwood, Cognitive collaboration: Why humans and computers think better together, Deloitte University Press, January 23, 2017; Carl Benedikt Frey and Michael A. Osborne, The Future of Employment: How Susceptible are Jobs to Computerisation?, University of Oxford, September 17, 2013; O*NET, US Department of Labor. Tech Trends 2018: The symphonic enterprise 26 intelligent automation solutions may be able to augment human performance by automating certain parts of a task, thus freeing individuals to focus on more “human” aspects that require empathic problem- solving abilities, social skills, and emotional intelligence. For example, if retail banking transactions were automated, bank tellers would be able to spend more time interacting with and advising customers— and selling products. Consider this: In a survey conducted for Deloitte’s 2017 Global Human Capital Trends report, more than 10,000 HR and business leaders across 140 countries were asked about the potential impact of automation on the future of work. Only 20 percent said they would reduce the number of jobs at their companies. Most respondents (77 percent) said they will either retrain people to use new technology or will redesign jobs to better take advantage of human skills.3 Indeed, recent Deloitte UK research suggests that in the future, 30 percent of high-paying new jobs will be social and “essentially human” in nature.4 The future that this research foresees has arrived. During the next 18 to 24 months, expect more companies to embrace the emerging no-collar workforce trend by redesigning jobs and reimagining how work gets done in a hybrid human-andmachine environment. For HR organizations in particular, this trend raises a number of fundamental questions. For example, how can companies approach performance management when the workforce includes bots and virtual workers? What about onboarding or retiring non-human workers? These are not theoretical questions. One critical dimension of the no-collar workforce trend involves creating an HR equivalent to support mechanical members of the worker cohort. Given how entrenched traditional work, career, and HR models are, reorganizing and reskilling workers around automation will likely be challenging. It will require new ways of thinking about jobs, enterprise culture, technology, and, most importantly, people. Even with these challenges, the nocollar trend introduces opportunities that may be too promising to ignore. What if by augmenting a human’s performance, you could raise his productivity on the same scale that we have driven productivity in technology? As they explore intelligent automation’s possibilities, many of those already embracing the no-collar trend no longer ask “what if.” For these pioneering companies, the only question is, “How soon?” Workers (and bots) of the world, unite! According to the 2017 Global Human Capital Trends report, 41 percent of executives surveyed said they have fully implemented or have made significant progress in adopting cognitive and Al technologies within their workforce. Another 34 percent of respondents have launched pilot programs. Yet in the midst of such progress, only 17 percent of respondents said they are ready to manage a workforce in which people, robots, and AI work side by side.5 At this early stage of the no-collar workforce trend, there is no shame in being counted among the 83 percent who don’t have all the answers. Given the speed with which AI, cognitive, and robotics are evolving, today’s clear-cut answers will likely have limited shelf lives. Indeed, this trend, unlike some others examined in Tech Trends 2018, is more like a promising journey of discovery than a clearly delineated sprint toward a finish line. Every company has unique needs and goals and thus will approach questions of reorganization, talent, technology, and training differently. There are, however, several broad dimensions that will likely define any workforce transformation journey: Culture. Chances are, your company culture is grounded in humans working in defined roles, performing specific tasks within established processes. These workers likely have fixed ideas about the nature of employment, their careers, and about technology’s supporting role in the bigger operational No-collar workforce 27 picture. But what will happen to this culture if you begin shifting some traditionally human roles and tasks to bots? Likewise, will workplace morale suffer as jobs get redesigned so that technology augments human performance? Finally, is it realistic to think that humans and technology can complement each other as equal partners in a unified seamless workforce? In the absence of hard answers to these and similar questions, workers and management alike often assume the worst, hence the raft of “AI Will Take Your Job” headlines. The no-collar trend is not simply about deploying AI and bots. Rather, it is about creating new ways of working within a culture of human/machine collaboration. As you begin building this new culture, think of your hybrid talent base as the fulcrum that makes it possible for you to pivot toward the digital organization of the future. Workers accustomed to providing standard responses within the constraints of rigid processes become liberated by mechanical “co-workers” that not only automate entire processes but augment human workers as they perform higher-level tasks. Work culture becomes one of augmentation, not automation. As they acclimate to this new work environment, humans may begin reflexively looking for opportunities to leverage automation for tasks they perform. Moreover, these human workers can be held accountable for improving the productivity of their mechanical co-workers. Finally, in this culture, management can begin recognizing human workers for their creativity and social contributions rather than their throughput (since most throughput tasks will be automated). Tech fluency. As companies transition from a traditional to an augmented workforce model, some may struggle to categorize and describe work in a way that connects it to AI, robotic process automation (RPA), and cognitive. Right now, we speak of these tools as technologies. But to understand how an augmented workforce can and should operate, we will need to speak of these technologies as components of the work. For example, we could map machine learning to problem solving; RPA might map to operations management. But to categorize technologies as components of work, we must first understand what these technologies are, how they work, and how they can potentially add value as part of an augmented workforce. This is where tech fluency comes in. Being “fluent” in your company’s technologies means understanding critical systems—their capabilities and adjacencies, their strategic and operational value, and the particular possibilities they enable.6 In the context of workforce transformation, workers who possess an in-depth understanding of automation and the specific technologies that enable it will likely be able to view tech-driven transformation in its proper strategic context. They may also be able to adjust more readily to redesigned jobs and augmented processes. Today, many professionals—and not just those working in IT—are dedicated to remaining tech fluent and staying on top of the latest innovations. However, companies planning to build an augmented workforce cannot assume that workers will be sufficiently fluent to adapt quickly to new technologies and roles. Developing innovative ways of learning and institutionalizing training opportunities can help workers contribute substantively, creatively, and consistently to transformational efforts, no matter their roles. This may be particularly important for HR employees who will be designing jobs for augmented environments. HR for humans and machines. Once you begin viewing machines as workforce talent,7 you will likely need to answer the following questions about sourcing and integrating intelligent machines into your work environments: • What work do we need to do that is hard to staff and hard to get done? What skills do we need to accomplish the work? How do we evaluate if a prospective hire’s skills match the skills we are looking for? • How do we onboard new members of the workforce and get them started on the right foot? • How do we introduce the new “talent” to their colleagues? Tech Trends 2018: The symphonic enterprise 28 No-collar workforce • How do we provide new hires with the security access and software they need to do their jobs? How do we handle changes to access and audit requirements? • How do we evaluate their performance? Likewise, how do we fire them if they are not right for the job? These questions probably sound familiar. HR organizations around the world already use them to guide their recruiting and talent management processes for human workers. As workforces evolve to include mechanical talent, HR and IT may have to develop entirely new approaches for managing these workers—and the real risk of automating bad or inaccurate processes. For example, machine learning tools might begin delivering inaccurate outcomes, or AI algorithms could start performing tasks that add no value. In these scenarios, HR will “manage” automated workers by designing governance and control capabilities into them. Meanwhile, HR will continue its traditional role of recruiting, training, and managing human workers, though its approach may need to be tailored to address potential issues that could arise from augmentation. For example, augmented workers will likely need technology- and role-specific training in order to upskill, cross-train, and meet the evolving demands of augmented roles. Likewise, to accurately gauge their performance, HR—working with IT and various team leaders—may have to create new metrics that factor in the degree to which augmentation reorients an individual’s role and affects her productivity. Keep in mind that metrics and roles may need to evolve over time. The beauty and challenge of cognitive workers is they are constantly working and developing an ever more nuanced approach to tasks. In terms of productivity, this is tremendous. But in the context of augmentation, what happens to the human role when the augmenting technology evolves and grows? How will metrics accurately gauge human or machine performance when tasks and capabilities are no longer static? Likewise, how will they measure augmented performance (humans and machines working in concert to achieve individual tasks)? Leading by example Just as the no-collar trend may disrupt IT, finance, and customer service, so too could it disrupt HR organizations, their talent models, and the way they work. Some HR organizations are already playing leading roles in enterprise digital transformation. Likewise, many are developing new approaches for recruiting digital talent, and are deploying apps and a variety of digital tools to engage, train, and support employees. But in terms of process and tools, the opportunities that AI, cognitive, and robotics offer make HR’s digitization efforts to date seem quaint. In the near future, HR will likely begin redesigning its own processes around virtual agents, bots, and other tools that can answer questions, execute transactions, and provide training, among many other tasks traditionally performed by human workers. What about using cognitive tools to manage mechanical workers? Another intriguing possibility in the no-collar workforce of the future. 29 Skeptic’s corner The word “automation” is a loaded term these days. To some, it inspires hopeful thoughts of turbocharged efficiency and bottom-line savings. To others, it conjures images of pink slips. With your indulgence, we would like to correct a few common misconceptions about this evocative word and the no-collar workforce trend with which it is associated. Misconception: There’s a long history of workers being replaced by automation. Isn’t reducing labor costs the entire point of automating? Reality: You are assuming that AI, cognitive technologies, and robots can do everything human workers can do, only more cheaply and quickly. Not true, by a long shot. At present, technology cannot duplicate many uniquely human workplace strengths such as empathy, persuasion, and verbal comprehension. As the no-collar trend picks up steam, companies will likely begin redesigning jobs around unique human capabilities, while looking for opportunities to augment these capabilities with technology. Misconception: Robotics and cognitive technologies fall under IT’s domain. What’s HR got to do with this? Reality: Yes, IT will play a lead role in the deployment and maintenance of these technologies. But in an augmented workforce, the traditional boundary between humans and machine disappears. The two types of workers work symbiotically to achieve desired goals. Integrating people and technology becomes an interdisciplinary task, with HR taking the lead in redesigning jobs and training the augmented workforce. Misconception: I can understand why some workers should develop their tech fluency. But all workers? That seems like a waste of time and resources. Reality: The strongest argument for all workers becoming more tech fluent—and for their employers to create learning environments to help them on this journey—is this: In the absence of a shared understanding of enterprise technologies and their possibilities, companies cannot nurture the collective imagination necessary to move toward a new strategic and operational future. Becoming conversant in technology can help workers of all backgrounds understand not only the realities of today but the possibilities of tomorrow. Tech Trends 2018: The symphonic enterprise 30 NASA’s space-age workforce One of NASA’s newest employees works at the Stennis Space Center. Fully credentialed, he operates out of Building 1111, has an email account, and handles mainly transactional administrative tasks. His name is George Washington, and he’s a bot. “Rather than viewing bots as a replacement for people, I see them as a way to simplify work,” says Mark Glorioso, executive director of NASA Shared Services Center (NSSC). “We are building bots that will make our people more effective, so as we grow, we are able to do more without adding staff.” George is one of a small team of bots that NASA has developed to take on rote, repetitive bookkeeping and organizational tasks so human workers may focus on higher-level, strategic activities. Conceived two years ago as part of NSSC’s drive to optimize budgetary resources, the “bots-as-a-service” program started to take shape in May 2017 when George went to work. Soon, Thomas Jefferson and other bots joined him. Glorioso’s team chose to start small so they could measure the return on investment, as well as help ensure the bots would not inadvertently add to IT’s workload. They identified opportunities to integrate bots by creating journey maps and breaking up processes into analytical pieces—looking for tasks that could be automated. George’s responsibilities include cutting and pasting job candidates’ suitability reports from emails and incorporating the information into applications for the HR team. The other bots’ tasks include distributing funds for the CFO’s office and automating purchase requests for the CIO’s team. Tasks that took hours for a human to complete now take just minutes. NASA has started to deploy bots throughout the agency. A decentralized approach allows the NSSC’s 10 centers to decide how they want to reposition their staff members, then lets them build their own bots according to the tasks they choose to automate. Each center runs its bots off a single bot community, so the initial investment is shared. Because each task may require robots with different skills, centers can choose software vendors that specialize in specific areas, such as finance. Glorioso’s team ensures that all bots across the 10 centers meet NASA standards, then pushes them into production and manages them. This allows NSSC to scale the bots program as needed. Rather than investing in infrastructure, the center invests in one bot at a time. The buy-in of the human workforce has been a priority for NSSC from the start. Glorioso’s team demonstrated the bots for the business leads of the center’s major units, then let the leads present the technology to their own teams. They also instituted “Lunch and Learn” sessions to educate employees LESSONS FROM THE FRONT LINES No-collar workforce 31 on the benefits of bots and demonstrate how they work. Staff quickly embraced the bot program as a way to automate repetitive, time-consuming tasks and actively suggested transactions that could be augmented with worker bots. Although credentialed like human workers, the bots have performance reviews skewed to different metrics. For example, Glorioso’s team is considering turning over password resets to the bots. A bot should be able to handle many more password resets than a human employee, so a higher level of turnaround will be expected of them. However, the quality of the user experience will be the ultimate test. If users find it difficult to communicate with the bots, the experiment won’t be considered a success. Glorioso says there will always be a need for humans on his team—their expertise is needed to approve budgetary requests, bring in new business, and assist the bots when there are unusual rules exceptions. As the program grows, Glorioso sees potential job creation in the areas of bot-building and bot-performance management: “I’d like to think ultimately we will hire people who can ‘bot-ify’ their own transactions. For now, we build the bots and show everyone how they can help. We are giving them a reason to build their own bot.”8 Exelon Utilities powers up the bots Exelon provides power generation, energy sales, transmission, and delivery in 48 states, Washington, DC, and Canada. The company champions competition as a way to meet economic and environmental policy objectives, so driving efficiencies is key to achieving its overall mission. These efficiencies include optimizing its workforce to fuel innovative thinking. After seeing success with its Strategic Supplier Program—in which Exelon outsourced transactional work to free up IT employees for creative and analytical tasks—company leadership has begun exploring opportunities to augment its human workforce with bots. “Innovation isn’t a group in an ivory tower—innovation is everyone’s job,” says Mark Browning, Exelon Utilities VP of IT and chief information officer. “It’s an expectation that we all innovate across the organization to reinvent ourselves as a utility. The only way to get there is to let go of transactional work and migrate resources to value-added work that helps the business achieve even greater performance and higher levels of service for our customers.” 9 Exelon’s CEO has charged leadership throughout the enterprise with exploring the potential of robotic process automation to drive efficiencies and cost savings. The organization recently completed a multi-month assessment to identify areas of opportunity for deploying bots, and the IT organization is facilitating an initiative to build out pilots. A number of departments—IT, finance, supply chain, human resources, legal, risk, and communications— are evaluating their processes to recommend possible use cases that could prove out the capabilities and benefits. With work time-sliced across several different individuals, a key part of the roadmap is not just identifying what tasks are ripe for automation but determining how to adjust job definitions, how employees are organized, and how to navigate through the cultural implications. “We were able to outsource transactional IT work, reduce costs, and redeploy employees to higher-value work, and we believe we can do that again as we shift to a robotic model,” Browning says. “We want LESSONS FROM THE FRONT LINES Tech Trends 2018: The symphonic enterprise 32 No-collar workforce LESSONS FROM THE FRONT LINES to use RPA to offer employees the opportunity to do more challenging, satisfying work that directly contributes to the organization’s success.” As Exelon builds a business case showing concrete return on investment, leaders are grappling with how the bots fit into its organizational structure. “It’s not just a technology issue—this affects our people and our mission.” Browning sees a future in which RPA has matured within the organization, enabling his team to build out capabilities that leverage Exelon’s investments in big data, machine learning, next-generation ERP, the Internet of Things, and other technologies— intersecting to create a closed-loop cycle that could have an impact on business outcomes, he says. “We believe it’s a core competency we want to own and mature. We need to do this right, because RPA is as much about technology challenges and as it is about change management and cultural shifts.” 33 The Center for Cyber Safety and Education has predicted that there will be 1.8 million unfilled cybersecurity positions by 2022.10 An augmented workforce—one in which automation can carry out rote tasks to free up human workers for higher-level activities—could help fill that demand. However, corporations should consider how this no-collar workforce could change the dynamic of their existing operations. CULTURAL This new way of working already is affecting how the workforce interacts and engages. It’s not uncommon for employees to communicate with their teammates solely via email, social collaboration applications, or instant message, with unclear impacts on creative collaboration. This can be further complicated when teammates are bots, a development that could stymie knowledge sharing. For example, a cyber professional’s job includes collaborating with peers to build knowledge of attack mechanisms and to develop creative solutions. When automation replaces those functions, there may be less opportunity for interactive collaboration, which could affect the team’s effectiveness. However, with effective training of people and ongoing training and calibration of the machines, the two working together can help effectively execute a broader cyber strategy. Additionally, teams augmented with robotic process automation could experience friction derived from the dynamic of mission-based humans versus rules-based bots. When humans perform a cybersecurity-related task, they can apply a sense of mission as well as judgment in executing their task, make exceptions when necessary, and change course quickly to react to immediate threats. But bots often possess limited situational awareness and may be unable to make decisions regarding exceptions. It is critical to automate tasks only after evaluating which functions may require a human’s judgment and capacity for decision-making. CYBER Bots can help mitigate cyber risk by automating control activities to facilitate reliability, consistency, and effectiveness. RPA capabilities can enable cyber automation, such as processing vast threat intelligence sources. But bots themselves could be targets in an attack, exposing sensitive employee and customer data that could damage a company’s reputation. Protecting bot workers, IoT devices, applications, and networks— whether on-premises or in far-flung virtual offices—becomes paramount. Controls should be built in from the start, and then continuously monitored, tested, and adapted to new challenges as they emerge. Because this entails more than equipment decisions, comprising policy and personnel strategies as well, business and IT should work together closely to define cyber workplace guidelines to mitigate risk. LEGAL AND REGULATORY As we automate tasks and augment workers, new regulatory and compliance issues may emerge. Privacy issues, for example, could be a concern, particularly for global organizations subject to the European Union’s General Data Protection Regulation. Workplace bots collecting and processing data through sensors, devices, cameras, and even microphones could inadvertently collect workers’ personal data, which may violate privacy laws in some countries. Additionally, bots performing tasks in highly regulated industries, such as finance, could prove liabilities if a network outage or equipment failure results in a breakdown of automated oversight functions. Finally, labor laws could evolve around as-yet-unanticipated issues as human workers increasingly collaborate with their robot counterparts. Despite this uncharted territory, the no-collar workforce can help enhance cybersecurity planning and response and could improve overall risk management. Automation of functions such as threat intelligence, security application monitoring, and privilege management may result in greater consistency, reliability, and coverage. RISK IMPLICATIONS Tech Trends 2018: The symphonic enterprise 34 No-collar workforce GLOBAL IMPACT Robotic process automation is changing the way we work around the world. Findings from a survey of Deloitte leaders across 10 regions show that automation is affecting most regions, to some degree, across a variety of industries. Cognitive computing and artificial intelligence are not as widespread, but the no-collar workforce is a trend that global organizations likely will need to address if they want to stay competitive. In Latin America, robotic process automation is of interest to mining and resource companies that require big data for critical decision-making. In Central Europe, robotics and cognitive automation will likely affect the large number of shared service centers and business process outsourcing providers located in the region. Likewise, the talent pool likely will shift from supporting simple processes to delivering solutions that require skills such as critical thinking. This is true for Northern Europe, as well, which expects new roles to emerge as global, around-the-clock, man-and-machine workforces develop; part of this change could involve a more prominent role for IT organizations. Australia’s increasing prioritization of customer and employee experiences, coupled with lower barriers to entry for cloud technologies, is fueling the adoption of augmenting and enabling technologies. In Africa, the no-collar workforce presents complex challenges within developing markets with high unemployment rates. Highly regulated labor environments could present obstacles, although the region’s technology readiness and availability of cloud platforms could make it possible for organizations to gear up for this much-needed transformation. Most respondents see RPA being widespread within a year or two, with artificial intelligence and cognitive computing taking a bit longer—from two to five years. All regions expect that some degree of upskilling will be necessary to make the shift. Deloitte Insights | Deloitte.com/insights Figure 2. Global impact Relevance Significant High Low Medium None Timeliness Now 1 year 1–2 years 2–5 years 5+ years Readiness Significant High Medium Low None N. America N. Europe C. Europe Israel Asia S. America S. Europe S. Africa Middle East Australasia Global impact measures Source: Deloitte analysis. 35 Where do you start? Building a no-collar workforce requires deliberate planning. Machines and humans can work well together if you anticipate the challenges and put in place the resources and governance to make all elements of the hybrid workforce successful. The following initial steps can provide a framework for deconstructing existing roles into underlying jobs, determining which are uniquely human and which can be redesigned for augmentation. • Assess your needs: Is the no-collar trend a viable option for your company? To answer this question, identify all the areas in your organization where mission-critical activities that do not contain uniquely human work elements occur. Are there opportunities to augment human performance in these areas? If so, are the opportunities compelling? In some companies, augmentation opportunities are potentially transformative; in others, not so much. Remember: Let needs, not technology, drive your strategy. • Understand how work currently gets done: For each task within a given process, identify who is performing the task, the skills required to complete the task, and the technologies enabling not only this specific task but adjacent or dependent tasks within the larger process. This informational baseline will help you challenge your own assumptions about existing processes, and then explore different talent options and technologies that can be used in concert to improve overall process efficiency. It may also spark fresh ideas about the impact that automation will have on your organizational structure. • Categorize skills and tasks: Define the difference between skills that only humans have, such as ethical or creative thinking, and nonessential tasks that machines can perform. Understanding that difference can eventually help you redesign jobs, identify opportunities for augmentation, and develop automation strategies. • Investigate tools and tactics: What cognitive technologies and advanced robotics solutions are currently used in your industry? What new advances appear on the horizon? The speed of technological innovation is bringing disruptive tools online faster than ever. In this environment, IT, HR, and business leaders should stay up to speed on advances in intelligent automation, and try to identify how emerging capabilities and concepts could impact productivity and job design at their companies. • Easy does it or full steam ahead? Different smart technologies require different approaches. Are you sufficiently ambitious to explore opportunities for “brute force” automation initiatives involving bots? Or does your ambition (and perhaps your budget) align more closely with less disruptive deployments of cognitive technologies or AI? Which approach better supports your organization’s overall mission and strategic priorities? Bottom line Advances in artificial intelligence, cognitive technologies, and robotics are upending time-honored assumptions about jobs, careers, the role of technology in the workplace, and the way work gets done. The no-collar trend offers companies the opportunity to reimagine an entirely new organizational model in which humans and machines become co-workers, complementing and enhancing the other’s efforts in a unified digital workforce. Tech Trends 2018: The symphonic enterprise 36 No-collar workforce ANTHONY ABBATIELLO Anthony Abbatiello is a principal with Deloitte Consulting LLP and serves as the digital leader for the Human Capital practice. He advises global clients on building high-performance digital businesses that drive growth and transformation through leadership development, human resources, and talent management. Abbatiello is a regular talent blogger on Huffington Post and a global eminence leader on topics such as the digital organization, leadership development, and global talent management. TIM BOEHM Tim Boehm is a principal with Deloitte Consulting LLP and leads Deloitte’s Application Management Services for Energy & Resources, including IT advisory and application development, and maintenance and portfolio management services. He also leads Deloitte’s AMS automation program, using the latest technology to drive exponential improvement in the IT function. JEFF SCHWARTZ Jeff Schwartz is a Human Capital principal with Deloitte Consulting LLP and leads the US future of work research and consulting services. Previously, he led the Human Capital global delivery centers and served as an adviser to the Consulting practice in India. Schwartz is a founder of and a US managing partner for the US Israel Innovation Collaboration. Risk implications SHARON CHAND Sharon Chand is a principal with Deloitte’s Cyber Risk Services practice and helps critical infrastructure providers be secure, vigilant and resilient. She is a CISSP with more than 20 years of experience helping global clients manage their cyber risks. Chand focuses on policy and risk governance implementation, cyber threat monitoring, vulnerability management, identity and access management, and data protection within the energy industry. AUTHORS 37 1. Vanessa McGrady, “New study: Artificial intelligence is coming for your jobs, millennials,” Forbes, June 9, 2017. 2. Alanna Petroff, “US workers face higher risk of being replaced by robots: Here’s why,” CNN Tech, March 24, 2017. 3. Jeff Schwartz, Laurence Collins, Heather Stockton, Darryl Wagner, and Brett Walsh, The future of work: The augmented workforce, Deloitte University Press, February 28, 2017. 4. Angus Knowles-Cutler and Harvey Lewis, Talent for survival: Essential skills for humans working in the machine age, Deloitte UK, 2016. 5. Schwartz et al., The future of work: The augmented workforce. 6. Daniel Newman, “What technology can teach us about employees of the future,” Forbes, November 29, 2016. 7. David Schatsky and Jeff Schwartz, Machines as talent: Collaboration, not competition, Deloitte University Press, February 27, 2015. 8. Interview with Mark Glorioso, executive director of NASA Shared Services Center, September 18, 2017. 9. Interview with Mark Browning, vice president of IT and chief information officer, Exelon Utilities, November 14, 2017. 10. Center for Cyber Safety and Education, “Global cybersecurity workforce shortage to reach 1.8 million as threats loom larger and stakes rise higher,” June 7, 2017. ENDNOTES Tech Trends 2018: The symphonic enterprise 38 No-collar workforce 39 BILL BRIGGS Global and US chief technology officer Deloitte Consulting LLP wbriggs@deloitte.com | Twitter: @wdbthree Bill Briggs’ nineteen-plus years with Deloitte have been spent delivering complex transformation programs for clients in a variety of industries, including financial services, health care, consumer products, telecommunications, energy, and public sector. He is a strategist with deep implementation experience, helping clients anticipate the impact that new and emerging technologies may have on their business in the future—and getting there from the realities of today. In his role as CTO, Briggs is responsible for research, eminence, and innovation, helping to define and execute the vision for Deloitte Consulting LLP’s Technology practice, identifying and communicating those technology trends affecting clients’ businesses, and driving the strategy for Deloitte Consulting LLP’s evolving technology services and offerings. As the founding global leader of Deloitte Digital, Briggs was responsible for the launch and growth of a new global practice redefining the vision of a digital consulting agency. Deloitte Digital offers a mix of creative, strategy, user experience, engineering talent, and technology services to help clients harness disruptive digital technologies to imagine, deliver, and run the future—to engage differently with customers, reshape how work gets done, and rethink the very core of their markets. EXECUTIVE EDITOR Tech Trends 2018: The symphonic enterprise 150 SEAN DONNELLY Technology Strategy and Innovation leader Deloitte LLP Sean Donnelly leads Deloitte’s Technology Strategy and Innovation practice in Canada. He focuses on defining and integrating business and IT strategies and developing operational capabilities within IT. With more than 20 years of consulting experience in the financial services industry, Donnelly is a trusted adviser for numerous financial institutions on the adoption of new technologies and transformation of their IT functions. As the Canadian CIO Program lead, he is responsible for communicating with the technology executive community across industries on the latest technology trends, challenges, and opportunities. MARK LILLIE EMEA Energy Resources leader Deloitte MCS Limited Mark Lillie leads the Power and Utilities practice for Deloitte North West Europe, as well as the EMEA Energy and Resources Consulting business. He is the global lead for the CIO Program and technology strategy, which includes the annual CIO survey, tech trends, CIO transition labs, and the NextGen CIO Program. Lillie specializes in organization redesign, business change, IT strategy, and transformation programs including business strategy alignment, target operating model definition, cost reduction, and IT-enabled business process transformation. He also has experience across the energy value chain including energy trading, risk management, commercial optimization and retail operations. KEVIN RUSSO Technology Strategy and Architecture leader Deloitte Touche Tohmatsu Kevin Russo is a lead partner for Deloitte Touche Tohmatsu’s Technology, Strategy and Architecture practice in Australia and the Asia-Pacific region. He has more than 20 years of experience in the technology industry, focusing on strategy development and implementation of emerging technology programs. Russo works with some of Australia’s most innovative companies in the FSI, telecommunications, public sector, and energy and resources industries. Prior to Deloitte, he held global roles in both management consulting and software industries and led account management of several large multinational clients. Russo was also involved in two technology start-ups in the United States and is a member of Deloitte’s innovation council. GLOBAL IMPACT AUTHORS Authors 151 GORDON SHIELDS Global Technology Strategy and Architecture leader Deloitte LLP Gordon Shields is a partner with Deloitte LLP. He leads the Analytics practice in Canada and is the global leader for the Technology, Strategy, and Architecture practice. Shields has more than 30 years of industry experience. He specializes in information system strategies, outsourcing advisory, mergers and acquisitions, systems analysis, design, and implementation with a focus on data architectures, data governance and data quality. Shields has led international projects in the health, financial, public sector, pulp and paper, outsourcing, HR transformation, mining, pharmaceuticals, and energy and resources industries. HANS VAN GRIEKEN EMEA Technology Research & Insights leader Deloitte Consulting B.V. Hans van Grieken is the EMEA technology research and insights leader with Deloitte’s global CIO Program. He helps shape Deloitte’s global research agenda in addition to identifying and driving EMEA research initiatives. Van Grieken frequently addresses conferences and corporate boardrooms on the topics of digital DNA, digital transformation, and innovation. He is a fellow of Deloitte’s Center for the Edge where he helps senior executives understand the fundamental technology-driven changes that shape their business world, navigate short-term challenges, and identify longterm opportunities. Van Grieken is also a part-time executive lecturer at Nyenrode Business School. KEVIN WALSH Global Consulting Technology leader Deloitte MCS Limited Kevin Walsh is the Global Consulting Technology leader with Deloitte MCS Limited, and a member of the Deloitte Global Consulting Executive. In his current role, he is responsible for the development and execution of the global strategy for Deloitte’s Technology Consulting business. Walsh started his career in systems implementation for businesses across Europe, and has accrued more than 25 years of experience leading the successful delivery of complex technology programs for clients in both the public- and private-sectors. He is also chair of the Technology Leadership Group for the Princes Trust, a trustee of Ada, and a Fellow of the British Computer Society. Tech Trends 2018: The symphonic enterprise 152 GLOBAL IMPACT CONTENT DEVELOPED IN COLLABORATION WITH: Maria Arroyo, Aarti Balakrishna, Redouane Bellefqih, Magda Brzezicka, Lorenzo Cerulli, Christian Combes, David Conway, Javier Corona, Heidi Custers, Eric Delgove, Freddy du Toit, Salimah Esmail, Clifford Foster, Wojciech Fraczek, Ruben Fuentes, Juan Pedro Gravel, Steve Hallam, Kim Hallenheim, Andrew Hill, Rob Hillard, Jessica Jagadesan, Jesper Kamstrup-Holm, John Karageorgiou, Andreas Klein, James Konstanczak, Karoly Kramli, Rajeev Lalwani, Patrick Laurent, Fernando Laurito, Mariadora Lepore, Michael MacNicholas, Tony Manzano, Daniel Martyniuk, Os Mata, Brad Miliken, Richard Miller, Andre Filipe Pedro, Fabio Luis Alves Pereira, Kyara Ramraj, Steve Rayment, Kathy Robins, Galit Rotstein, Goncalo Jose Santos, Rizwan Saraf, Catrina Sharpe, Paul Sin, Christophe Vallet, Andries van Dijk, Andre Vermeulen, Markku Viitanen, Gilad Wilk, Ben Wylie, and Mohamed Yusuf GLOBAL IMPACT METHODOLOGY In Q3 2017, Deloitte Consulting LLP surveyed 60 leaders at Deloitte member firms in Europe, the Middle East, Africa, Asia Pacific, and the Americas on the impact (existing and potential) of the seven trends discussed in Tech Trends 2018. Specifically, for each trend we asked them to rank their respective regions in terms of 1) relevance of the trend; 2) timeliness of each trend; and 3) readiness for the trend. We also asked each leader to provide a written perspective to support their rankings. Based on their responses, we identified 10 geographic regions in which the trends discussed in Tech Trends 2018 were either poised to advance or are already advancing: North America, South America, Northern Europe, Central Europe, Southern Europe, the Middle East, Israel, South Africa, Australia and Asia. The countries that are represented in these regions include Argentina, Australia, Belgium, Brazil, Canada, Chile, China, Czech Republic, Denmark, Finland, France, Germany, Hong Kong, India, Ireland, Israel, Italy, Japan, Latvia, Luxembourg, Mexico, Middle East, Netherlands, New Zealand, Norway, Poland, Portugal, Romania, Serbia, South Africa, Spain, Sweden, Switzerland, the United Kingdom, and the United States. We summarized respondent perspectives that applied to each of these regions. Those summary findings and regional ranking are discussed in this report and presented visually in trend-specific infographics. Authors 153 REENGINEERING TECHNOLOGY Ken Corless Cloud chief technology officer Deloitte Consulting LLP kcorless@deloitte.com Jacques de Villiers Cloud Services managing director Deloitte Consulting LLP jadevilliers@deloitte.com Chris Garibaldi Technology Strategy & Transformation principal Deloitte Consulting LLP cgaribaldi@deloitte.com Risk implications Kieran Norton Cyber Risk Services principal Deloitte & Touche LLP kinorton@deloitte.com NO-COLLAR WORKFORCE Anthony Abbatiello Human Capital Digital leader Deloitte Consulting LLP aabbatiello@deloitte.com Tim Boehm Application Management Services principal Deloitte Consulting LLP tboehm@deloitte.com Jeff Schwartz Human Capital principal Deloitte Consulting LLP jeffschwartz@deloitte.com Risk implications Sharon Chand Cyber Risk Services principal Deloitte & Touche LLP shchand@deloitte.com DIGITAL REALITY Allan Cook Operations Transformation leader Deloitte Consulting LLP allcook@deloitte.com Ryan Jones Virtual and Mixed Reality leader Deloitte Consulting LLP rcjones@deloitte.com Risk implications Ash Raghavan Deloitte Advisory’s Center for Intelligent Automation & Analytics leader Deloitte & Touche LLP araghavan@deloitte.com Irfan Saif US Advisory leader, Technology Deloitte & Touche LLP isaif@deloitte.com BLOCKCHAIN TO BLOCKCHAINS Eric Piscini Global Financial Services Consulting Blockchain leader Deloitte Consulting LLP episcini@deloitte.com CHAPTER AUTHORS Tech Trends 2018: The symphonic enterprise 154 Darshini Dalal US Blockchain Lab leader Deloitte Consulting LLP ddalal@deloitte.com Risk implications David Mapgaonkar Cyber Risk Services leader Deloitte & Touche LLP dmapgaonkar@deloitte.com Prakash Santhana US Advisory managing director Deloitte Transactions and Business Analytics LLP psanthana@deloitte.com ENTERPRISE DATA SOVEREIGNTY Nitin Mittal US Analytics and Information Management leader Deloitte Consulting LLP nmittal@deloitte.com Sandeep Kumar Sharma, Ph.D. Deputy chief technology officer Deloitte Consulting LLP sandeepksharma@deloitte.com Ashish Verma Analytics and Information Management leader Deloitte Consulting LLP asverma@deloitte.com Risk implications Dan Frank US Privacy and Data Protection leader Deloitte & Touche LLP danfrank@deloitte.com API IMPERATIVE Larry Calabro Cloud Engineering leader Deloitte Consulting LLP lcalabro@deloitte.com Chris Purpura Cloud Services managing director Deloitte Consulting LLP cpurpura@deloitte.com Vishveshwara Vasa Deloitte Digital managing director Deloitte Consulting LLP vvasa@deloitte.com Risk implications Arun Perinkolam Cyber Risk Services principal Deloitte & Touche LLP aperinkolam@deloitte.com THE NEW CORE Bill Briggs Global and US chief technology officer Deloitte Consulting LLP wbriggs@deloitte.com Steven Ehrenhalt Global and US Finance Transformation principal Deloitte Consulting LLP hehrenhalt@deloitte.com Nidal Haddad Deloitte Digital chief of markets Deloitte Consulting LLP nhaddad@deloitte.com Doug Gish Supply Chain and Manufacturing Operations leader Deloitte Consulting LLP dgish@deloitte.com Adam Mussomeli Supply Chain Strategy principal Deloitte Consulting LLP amussomeli@deloitte.com Authors 155 Anton Sher Digital Finance Strategy and Transformation principal Deloitte Consulting LLP ansher@deloitte.com Risk implications Vivek Katyal Global and US Risk Analytics leader Deloitte & Touche LLP vkatyal@deloitte.com Arun Perinkolam Cyber Risk Services principal Deloitte & Touche LLP aperinkolam@deloitte.com EXPONENTIAL TECHNOLOGY WATCH LIST Mark White US Innovation Office chief technologist Deloitte Consulting LLP mawhite@deloitte.com Jeff Margolies Cyber Risk Services principal Deloitte & Touche LLP jmargolies@DELOITTE.com Rajeev Ronanki Cognitive Computing and Health Care Innovation leader Deloitte Consulting LLP rronanki@deloitte.com David Steier Deloitte Analytics managing director Deloitte Consulting LLP dsteier@deloitte.com Geoff Tuff Deloitte Digital Transformation leader Deloitte Consulting LLP gtuff@deloitte.com Ayan Bhattacharya Analytics and Information Management specialist leader Deloitte Consulting LLP aybhattacharya@deloitte.com Nipun Gupta Cyber Risk Advisory senior consultant Deloitte & Touche LLP nipgupta@deloitte.com Risk implications Irfan Saif US Advisory leader, Technology Deloitte & Touche LLP isaif@deloitte.com Tech Trends 2018: The symphonic enterprise 156 Rahul Bajpai, Charles Balders, Ranjit Bawa, William Beech, Melissa Bingham, Naaman Curtis, Traci Daberko, Asha Dakshinamoorthy, Larry Danielson, Sukhdev Darira, Preetha Devan, Tim Dickey, Habeeb Dihu, Sean Donnelly, Tony Easterlin, Jon Eick, Nikita Garia, Ryan Gervais, Doug Gish, Lee Haverman, Erica Lee Holley, Chris Huff, Mary Hughes, Lisa Iliff, Sarah Jersild, Junko Kaji, Abrar Khan, Kim Killinger, Krishna Kumar, Sunny Mahil, Melissa Mailley, Karen Mazer, Bev McDonald, Laura McGoff, Peter Miller, Alexander Mogg, Ramani Moses, Pratyush Mulukutla, Devon Mychal, Mahima Nair, Chandra Narra, Alice Nhu, Renu Pandit, Alison Paul, Linda Pawczuk, Joanie Pearson, Alok Pepakayala, Rick Perez, Anoop R, Robert Rooks, Maximilian Schroeck, Ashley Scott, Faisal Shaikh, Alina Shapovalenko, Omer Sohail, Rithu Thomas, JT Thomson, Jonathan Trichel, and Paul Wellener LEADS Jasjit Bal, Gokul Bhaghavantha Rao, Michael Davis, Rachel Halvordson, Solomon Kassa, Alyssa Long, Andrea Reiner, and Nicholas Tawse TEAM MEMBERS Jackie Barr, Trent Beilke, Nick Boncich, Matt Butler, Sean Cremins, Jiten Dajee, Ankush Dongre, Cristin Doyle, Kevin Errico, Alex Feiszli, Inez Foong, Rob Garrett, Amy Golem, Sam Greenlief, Grace Ha, Dylan Hooe, Syed Jehangir, Yili Jiang, Nandita Karambelkar, Ava Kong, Kaitlyn Kuczer, Varun Kumar, Kartikeya Kumar, Andrew Lee, Anthony Lim, Luke Liu, Andrea Lora, Betsy Lukins, Lea Ann Mawler, Joe McAsey, Robert Miller, Talia O’Brien, Deepak Padmanabhan, Sarita Patankar, Ellie Peck, Gilberto Rodriguez, Katrina Rudisel, Cabell Spicer, Jordan Stone, Jenna Swinney, Elizabeth Thompson, Casey Volanth, Greg Waldrip, Myette Ware, Michelle Young, and Chris Yun CONTRIBUTORS RESEARCH TEAM Contributors and research team 157 Mariahna Moore for leading the charge and bringing your inimitable spark to Tech Trends. Amazing job building out the core team around you, setting (and exceeding) standards of excellence, while driving toward (and meeting!) what seemed like impossible deadlines. Here’s to a holiday season focused on family instead of risk reviews and launch plans. Doug McWhirter for your mastery of form and function, making good on our promise to spin brilliant prose from armies of researchers, torrents of interviews, and gallery of SMEs. Tech Trends 2018 quite simply wouldn’t have happened without your pen, your editorial beacon, and your perseverance. Liz Mackey for stepping into the Tech Trends fire and blowing us all away. You took the day-to-day helm and delivered in every imaginable way—with calm, patience, grace, and the right amount of tireless determination to keep the ship steady through the inevitable fire drills. Dana Kublin for continued singular brilliance, leading all things creative—the theme, artwork, layout, infographics, motion graphics, and more. Beyond your vision and artistry, your leadership and teamwork are indispensable to not just Tech Trends but the broader OCTO. Patricia Staino for making a huge impact, adding your talents with the written word to content throughout the research, spinning blindingly insightful prose across chapters, lessons, My Takes, and more. Chuck Stern for upping our marketing game, doing an excellent job with our launch planning and our broader marketing mission. While providing a much needed outside-in lens to the insanity of our ninth year Tech Trend-ing. Tracey Parry for doing an incredible job filling big shoes around external communications and PR. You brought an amazing spark to the team, while delivering above and beyond (amidst adjusting to the chaos). You’ll definitely be missed, but good luck on the adventures to come. Maria Gutierrez as you jump back into the fray with the newest member of the OCTO family, bringing your talents to not just Tech Trends but our broader Signature Issue positioning. We’re thrilled to have you back and can’t wait to see where you take us in the new role. Stefanie Heng for jumping in wherever you could help—writing, designing, shaping, and improving our content and the app. And for being the engine behind our client and market engagement around all things Tech Trends—navigating through the strategic and the underlying details without missing a beat. Melissa Doody for expanding your role and impact, making your mark across creative and design. Looking forward to seeing your influence grow as you become a seasoned Tech Trends veteran. SPECIAL THANKS Tech Trends 2018: The symphonic enterprise 158 Deniz Oker and Nick Patton for the tremendous impact made in your inaugural Tech Trends effort— helping coordinate research, and diving in to help wherever needed. Thanks for everything you did to make Tech Trends 2018 our best one yet. Mitch Derman for your great help with everything from internal communications to our latest round of “Five Minutes On” videos. Matthew Budman, Troy Bishop, Kevin Weier, Amy Bergstrom, and the tremendous Deloitte Insights team. Tech Trends wouldn’t happen without your collaboration, your editorial brilliance, and your support. You help us raise the bar every year; more importantly, you’re a huge part of how we exceed those expectations. Special thanks 159 About Deloitte Insights Deloitte Insights publishes original articles, reports and periodicals that provide insights for businesses, the public sector and NGOs. Our goal is to draw upon research and experience from throughout our professional services organization, and that of coauthors in academia and business, to advance the conversation on a broad spectrum of topics of interest to executives and government leaders. Deloitte Insights is an imprint of Deloitte Development LLC. About this publication This publication contains general information only, and none of Deloitte Touche Tohmatsu Limited, its member firms, or its and their affiliates are, by means of this publication, rendering accounting, business, financial, investment, legal, tax, or other professional advice or services. This publication is not a substitute for such professional advice or services, nor should it be used as a basis for any decision or action that may affect your finances or your business. Before making any decision or taking any action that may affect your finances or your business, you should consult a qualified professional adviser. None of Deloitte Touche Tohmatsu Limited, its member firms, or its and their respective affiliates shall be responsible for any loss whatsoever sustained by any person who relies on this publication. About Deloitte Deloitte refers to one or more of Deloitte Touche Tohmatsu Limited, a UK private company limited by guarantee (“DTTL”), its network of member firms, and their related entities. DTTL and each of its member firms are legally separate and independent entities. DTTL (also referred to as “Deloitte Global”) does not provide services to clients. In the United States, Deloitte refers to one or more of the US member firms of DTTL, their related entities that operate using the “Deloitte” name in the United States and their respective affiliates. Certain services may not be available to attest clients under the rules and regulations of public accounting. Please see www.deloitte.com/about to learn more about our global network of member firms. Copyright © 2017 Deloitte Development LLC. All rights reserved. Member of Deloitte Touche Tohmatsu Limited Sign up for Deloitte Insights updates at www.deloitte.com/insights. Follow @DeloitteInsight Follow @DeloitteOnTech dupress.deloitte.com/tech-trends'"
      ]
     },
     "execution_count": 12,
     "metadata": {},
     "output_type": "execute_result"
    }
   ],
   "source": [
    "top_doc = list(cos_df[cos_df['doc_name'] != 'search_phrase']['doc_name'])[0]\n",
    "doc_dict[top_doc]"
   ]
  }
 ],
 "metadata": {
  "kernelspec": {
   "display_name": "Python 3",
   "language": "python",
   "name": "python3"
  },
  "language_info": {
   "codemirror_mode": {
    "name": "ipython",
    "version": 3
   },
   "file_extension": ".py",
   "mimetype": "text/x-python",
   "name": "python",
   "nbconvert_exporter": "python",
   "pygments_lexer": "ipython3",
   "version": "3.7.3"
  }
 },
 "nbformat": 4,
 "nbformat_minor": 2
}
